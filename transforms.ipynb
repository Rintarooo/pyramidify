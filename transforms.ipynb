{
 "cells": [
  {
   "cell_type": "markdown",
   "id": "ce415264",
   "metadata": {
    "scrolled": true
   },
   "source": [
    "### Creating transforms.json\n",
    "\n",
    "Converting COLMAP text files into transform.json for training."
   ]
  },
  {
   "cell_type": "code",
   "execution_count": 3,
   "id": "de0947f8",
   "metadata": {},
   "outputs": [
    {
     "name": "stdout",
     "output_type": "stream",
     "text": [
      "outputting to ./data/transforms.json...\n",
      "camera:\n",
      "\tres=(4032.0, 3024.0)\n",
      "\tcenter=(2016.0, 1512.0)\n",
      "\tfocal=(3078.51, 3078.51)\n",
      "\tfov=(66.43855130532965, 52.31562010031932)\n",
      "\tk=(0.0336372, 0) p=(0, 0) \n",
      "./images/IMG_7390.jpeg sharpness= 157.17375495859093\n",
      "./images/IMG_7392.jpeg sharpness= 261.6103190812738\n",
      "./images/IMG_7389.jpeg sharpness= 306.16236410111736\n",
      "./images/IMG_7391.jpeg sharpness= 314.9079919335161\n",
      "./images/IMG_7393.jpeg sharpness= 261.91578999420415\n",
      "./images/IMG_7394.jpeg sharpness= 282.8128985967259\n",
      "./images/IMG_7395.jpeg sharpness= 257.39156465528697\n",
      "./images/IMG_7396.jpeg sharpness= 173.2985990140397\n",
      "./images/IMG_7397.jpeg sharpness= 274.5273148712194\n",
      "./images/IMG_7398.jpeg sharpness= 236.23470133106164\n",
      "./images/IMG_7399.jpeg sharpness= 272.41624558770343\n",
      "./images/IMG_7400.jpeg sharpness= 211.99470013406918\n",
      "./images/IMG_7401.jpeg sharpness= 232.78425620793266\n",
      "./images/IMG_7402.jpeg sharpness= 220.63270160890255\n",
      "./images/IMG_7403.jpeg sharpness= 179.94275220920898\n",
      "./images/IMG_7404.jpeg sharpness= 248.7817301193963\n",
      "./images/IMG_7405.jpeg sharpness= 235.99423278247062\n",
      "./images/IMG_7406.jpeg sharpness= 269.92004759623325\n",
      "./images/IMG_7407.jpeg sharpness= 460.57574453549927\n",
      "./images/IMG_7408.jpeg sharpness= 283.1121006286928\n",
      "./images/IMG_7409.jpeg sharpness= 347.2888859956549\n",
      "./images/IMG_7410.jpeg sharpness= 376.9333014351355\n",
      "./images/IMG_7411.jpeg sharpness= 483.9391305121348\n",
      "./images/IMG_7412.jpeg sharpness= 526.7790956081489\n",
      "./images/IMG_7413.jpeg sharpness= 501.81141082976285\n",
      "./images/IMG_7414.jpeg sharpness= 269.33018944600565\n",
      "./images/IMG_7415.jpeg sharpness= 286.7598182778251\n",
      "./images/IMG_7416.jpeg sharpness= 483.0861851042626\n",
      "./images/IMG_7417.jpeg sharpness= 207.3845728872772\n",
      "./images/IMG_7418.jpeg sharpness= 328.87809043650196\n",
      "./images/IMG_7419.jpeg sharpness= 519.1191264068875\n",
      "./images/IMG_7420.jpeg sharpness= 789.2161449946393\n",
      "./images/IMG_7421.jpeg sharpness= 827.6060323617364\n",
      "./images/IMG_7422.jpeg sharpness= 860.149640582393\n",
      "./images/IMG_7423.jpeg sharpness= 744.498544022587\n",
      "up vector was [-0.99087226 -0.10377721 -0.08603753]\n",
      "computing center of attention...\n",
      "[-3.62019538  0.31482227 -0.19721351]\n",
      "avg camera distance from origin 4.7792085556842006\n",
      "35 frames\n",
      "writing ./data/transforms.json\n"
     ]
    }
   ],
   "source": [
    "colmap_camera_model = \"SIMPLE_RADIAL\"\n",
    "images = \"./images/\" # place images here\n",
    "text = \"./data/\" # place COLMAP text files here\n",
    "aabb_scale = 4\n",
    "out = \"./data/transforms.json\"\n",
    "\n",
    "# get colmap2nerf.py from https://github.com/NVlabs/instant-ngp\n",
    "# it's in the scripts folder\n",
    "!python3 colmap2nerf.py --colmap_camera_model {colmap_camera_model} \\\n",
    "                        --images {images} \\\n",
    "                        --text {text} \\\n",
    "                        --aabb_scale {aabb_scale} \\\n",
    "                        --out {out}"
   ]
  },
  {
   "cell_type": "code",
   "execution_count": null,
   "id": "d1125007",
   "metadata": {},
   "outputs": [],
   "source": []
  }
 ],
 "metadata": {
  "kernelspec": {
   "display_name": "Python 3 (ipykernel)",
   "language": "python",
   "name": "python3"
  },
  "language_info": {
   "codemirror_mode": {
    "name": "ipython",
    "version": 3
   },
   "file_extension": ".py",
   "mimetype": "text/x-python",
   "name": "python",
   "nbconvert_exporter": "python",
   "pygments_lexer": "ipython3",
   "version": "3.9.1"
  }
 },
 "nbformat": 4,
 "nbformat_minor": 5
}
